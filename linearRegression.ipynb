{
  "nbformat": 4,
  "nbformat_minor": 0,
  "metadata": {
    "colab": {
      "name": "linearRegression",
      "provenance": [],
      "authorship_tag": "ABX9TyOt9VRmb38dPXBw8yn6j7wj",
      "include_colab_link": true
    },
    "kernelspec": {
      "name": "python3",
      "display_name": "Python 3"
    },
    "language_info": {
      "name": "python"
    }
  },
  "cells": [
    {
      "cell_type": "markdown",
      "metadata": {
        "id": "view-in-github",
        "colab_type": "text"
      },
      "source": [
        "<a href=\"https://colab.research.google.com/github/benject/deep_learning/blob/main/linearRegression.ipynb\" target=\"_parent\"><img src=\"https://colab.research.google.com/assets/colab-badge.svg\" alt=\"Open In Colab\"/></a>"
      ]
    },
    {
      "cell_type": "code",
      "execution_count": null,
      "metadata": {
        "id": "aLlrCQ0WjOMN"
      },
      "outputs": [],
      "source": [
        "#Linear Regression"
      ]
    },
    {
      "cell_type": "code",
      "source": [
        "import numpy as np"
      ],
      "metadata": {
        "id": "Dzk-MQsfjRmk"
      },
      "execution_count": null,
      "outputs": []
    },
    {
      "cell_type": "code",
      "source": [
        "def mse(m,predict,real):\n",
        "\n",
        "  result =  np.sum((predict - real)**2) / (2 * m)\n",
        "  return result\n"
      ],
      "metadata": {
        "id": "kim71XXHjteP"
      },
      "execution_count": null,
      "outputs": []
    },
    {
      "cell_type": "code",
      "source": [
        "class MyLinearRegression():\n",
        "\n",
        "  def __init__(self,w,b):\n",
        "\n",
        "    self.w = w\n",
        "    self.b = b\n",
        "    self.lr = 1\n",
        "    self.lr_w = 0\n",
        "    self.lr_b = 0\n",
        "    pass\n",
        "\n",
        "  def forward(self,X): \n",
        "    \"\"\"\n",
        "    n, 参数个数\n",
        "    m, 数据个数\n",
        "    \n",
        "    w : n 行 1 列\n",
        "    X ： n 行 m 列\n",
        "   \n",
        "    \"\"\"\n",
        "\n",
        "    return np.dot(self.w.T, X) + self.b\n",
        "\n",
        "  def backward(self,m,predict,real,X):\n",
        "\n",
        "    grad_w = 1/m* np.dot(X,(predict-real).T) # 损失函数对w的求偏导\n",
        "    grad_b = 1/m* np.sum(predict - real) #损失函数对b的求偏导\n",
        "    return grad_w,grad_b\n",
        "  \n",
        "  def optimization(self,dw,db):\n",
        "\n",
        "    self.lr_w = self.lr_w + np.power(dw,2) ##ada grad；自适应的学习率 可以极大提高学习效率\n",
        "    new_w = self.w - self.lr / np.sqrt(self.lr_w) * dw ##ada grad； 自适应的学习率 可以极大提高学习效率\n",
        "    #new_w = self.w - self.learning_rate * dw\n",
        "\n",
        "    self.lr_b = self.lr_b + db**2 ##ada grad；自适应的学习率 可以极大提高学习效率 \n",
        "    new_b = self.b - self.lr / np.sqrt(self.lr_b) * db ##ada grad；自适应的学习率 可以极大提高学习效率\n",
        "    #new_b = self.b - self.learning_rate * db\n",
        "    return new_w,new_b\n",
        "\n",
        "  def update(self,new_w,new_b):\n",
        "\n",
        "    self.w = new_w\n",
        "    self.b = new_b\n",
        "\n"
      ],
      "metadata": {
        "id": "02JiR7hBjUeo"
      },
      "execution_count": null,
      "outputs": []
    },
    {
      "cell_type": "code",
      "source": [
        "\n",
        "X0 = np.linspace(0,100,50)\n",
        "\n",
        "X1 = X0 + np.random.randn(1,50)\n",
        "Y = X1 * 2 + 103.556\n",
        "\n",
        "import matplotlib.pyplot as plt\n",
        "\n",
        "plt.scatter(X1,Y)\n",
        "\n",
        "\n",
        "print(X1.shape)\n",
        "print(Y.shape)\n"
      ],
      "metadata": {
        "colab": {
          "base_uri": "https://localhost:8080/",
          "height": 301
        },
        "id": "zt_NxRvV0Xnt",
        "outputId": "25a27af5-e294-46b4-a861-ae30840b0ddf"
      },
      "execution_count": null,
      "outputs": [
        {
          "output_type": "stream",
          "name": "stdout",
          "text": [
            "(1, 50)\n",
            "(1, 50)\n"
          ]
        },
        {
          "output_type": "display_data",
          "data": {
            "image/png": "[encoded data removed]",
            "text/plain": [
              "<Figure size 432x288 with 1 Axes>"
            ]
          },
          "metadata": {
            "needs_background": "light"
          }
        }
      ]
    },
    {
      "cell_type": "code",
      "source": [
        "w = np.ones((1,1)) #只有1个特征值\n",
        "b = 0.\n",
        "\n",
        "linR = MyLinearRegression(w,b)\n",
        "\n",
        "for i in range(30000):\n",
        "\n",
        "  A = linR.forward(X1)\n",
        "  grad_w,grad_b = linR.backward(50,A,Y,X1)\n",
        "  new_w,new_b = linR.optimization(grad_w,grad_b)\n",
        "  linR.update(new_w,new_b)\n",
        "\n",
        "print(linR.w)\n",
        "print(linR.b)\n",
        "\n",
        "x = np.linspace(0, 100, 50)\n",
        "\n",
        "y1 = linR.w[0,0] * x + linR.b\n",
        "\n",
        "plt.figure()\n",
        "\n",
        "plt.scatter(X1,Y)\n",
        "\n",
        "plt.plot(x, y1,color ='red')\n",
        "\n",
        "\n",
        "plt.show()"
      ],
      "metadata": {
        "colab": {
          "base_uri": "https://localhost:8080/",
          "height": 301
        },
        "id": "Ds_v6hIK2F9J",
        "outputId": "4df9bf06-d958-47c9-b0fd-c9acedbd473a"
      },
      "execution_count": null,
      "outputs": [
        {
          "output_type": "stream",
          "name": "stdout",
          "text": [
            "[[2.00014941]]\n",
            "103.54590664732649\n"
          ]
        },
        {
          "output_type": "display_data",
          "data": {
            "image/png": "[encoded data removed]",
            "text/plain": [
              "<Figure size 432x288 with 1 Axes>"
            ]
          },
          "metadata": {
            "needs_background": "light"
          }
        }
      ]
    }
  ]
}