{
  "nbformat": 4,
  "nbformat_minor": 0,
  "metadata": {
    "colab": {
      "name": "linearRegression.ipynb",
      "provenance": [],
      "collapsed_sections": [],
      "authorship_tag": "ABX9TyNPTwe72jRueEMssXyeohmK",
      "include_colab_link": true
    },
    "kernelspec": {
      "name": "python3",
      "display_name": "Python 3"
    },
    "language_info": {
      "name": "python"
    }
  },
  "cells": [
    {
      "cell_type": "markdown",
      "metadata": {
        "id": "view-in-github",
        "colab_type": "text"
      },
      "source": [
        "<a href=\"https://colab.research.google.com/github/benject/deep_learning/blob/main/linearRegression.ipynb\" target=\"_parent\"><img src=\"https://colab.research.google.com/assets/colab-badge.svg\" alt=\"Open In Colab\"/></a>"
      ]
    },
    {
      "cell_type": "code",
      "execution_count": null,
      "metadata": {
        "id": "aLlrCQ0WjOMN"
      },
      "outputs": [],
      "source": [
        "#Linear Regression"
      ]
    },
    {
      "cell_type": "code",
      "source": [
        "import numpy as np"
      ],
      "metadata": {
        "id": "Dzk-MQsfjRmk"
      },
      "execution_count": null,
      "outputs": []
    },
    {
      "cell_type": "code",
      "source": [
        "def mse(m,predict,real):\n",
        "\n",
        "  result =  np.sum((predict - real)**2) / (2 * m)\n",
        "  return result\n"
      ],
      "metadata": {
        "id": "kim71XXHjteP"
      },
      "execution_count": null,
      "outputs": []
    },
    {
      "cell_type": "code",
      "source": [
        "class MyLinearRegression():\n",
        "\n",
        "  def __init__(self,w,b):\n",
        "\n",
        "    self.w = w\n",
        "    self.b = b\n",
        "    self.lr = 1\n",
        "    self.lr_w = 0\n",
        "    self.lr_b = 0\n",
        "    pass\n",
        "\n",
        "  def forward(self,X): \n",
        "    \"\"\"\n",
        "    n, 参数个数\n",
        "    m, 数据个数\n",
        "    \n",
        "    w : n 行 1 列\n",
        "    X ： n 行 m 列\n",
        "   \n",
        "    \"\"\"\n",
        "\n",
        "    return np.dot(self.w.T, X) + self.b\n",
        "\n",
        "  def backward(self,m,predict,real,X):\n",
        "\n",
        "    grad_w = 1/m* np.dot(X,(predict-real).T) # 损失函数对w的求偏导\n",
        "    grad_b = 1/m* np.sum(predict - real) #损失函数对b的求偏导\n",
        "    return grad_w,grad_b\n",
        "  \n",
        "  def optimization(self,dw,db):\n",
        "\n",
        "    self.lr_w = self.lr_w + np.power(dw,2) ##ada grad；自适应的学习率 可以极大提高学习效率\n",
        "    new_w = self.w - self.lr / np.sqrt(self.lr_w) * dw ##ada grad； 自适应的学习率 可以极大提高学习效率\n",
        "    #new_w = self.w - self.learning_rate * dw\n",
        "\n",
        "    self.lr_b = self.lr_b + db**2 ##ada grad；自适应的学习率 可以极大提高学习效率 \n",
        "    new_b = self.b - self.lr / np.sqrt(self.lr_b) * db ##ada grad；自适应的学习率 可以极大提高学习效率\n",
        "    #new_b = self.b - self.learning_rate * db\n",
        "    return new_w,new_b\n",
        "\n",
        "  def update(self,new_w,new_b):\n",
        "\n",
        "    self.w = new_w\n",
        "    self.b = new_b\n",
        "\n"
      ],
      "metadata": {
        "id": "02JiR7hBjUeo"
      },
      "execution_count": null,
      "outputs": []
    },
    {
      "cell_type": "code",
      "source": [
        "\n",
        "X0 = np.linspace(0,100,50)\n",
        "\n",
        "X1 = X0.reshape(1,50) \n",
        "Y = X1 * 2 + 103.556 + np.random.randn(1,50)*30\n",
        "\n",
        "import matplotlib.pyplot as plt\n",
        "\n",
        "plt.scatter(X1,Y)\n",
        "\n",
        "\n",
        "print(X1.shape)\n",
        "print(Y.shape)\n"
      ],
      "metadata": {
        "colab": {
          "base_uri": "https://localhost:8080/",
          "height": 304
        },
        "id": "zt_NxRvV0Xnt",
        "outputId": "bd3874cd-447d-4e12-ddc1-fe9d039f37dc"
      },
      "execution_count": null,
      "outputs": [
        {
          "output_type": "stream",
          "name": "stdout",
          "text": [
            "(1, 50)\n",
            "(1, 50)\n"
          ]
        },
        {
          "output_type": "display_data",
          "data": {
            "image/png": "[encoded data removed]",
            "text/plain": [
              "<Figure size 432x288 with 1 Axes>"
            ]
          },
          "metadata": {
            "needs_background": "light"
          }
        }
      ]
    },
    {
      "cell_type": "code",
      "source": [
        "w = np.ones((1,1)) #只有1个特征值\n",
        "b = 0.\n",
        "\n",
        "linR = MyLinearRegression(w,b)\n",
        "\n",
        "for i in range(30000):\n",
        "\n",
        "  A = linR.forward(X1)\n",
        "  grad_w,grad_b = linR.backward(50,A,Y,X1)\n",
        "  new_w,new_b = linR.optimization(grad_w,grad_b)\n",
        "  linR.update(new_w,new_b)\n",
        "\n",
        "print(linR.w)\n",
        "print(linR.b)\n",
        "\n",
        "x = np.linspace(0, 100, 50)\n",
        "\n",
        "y1 = linR.w[0,0] * x + linR.b\n",
        "\n",
        "plt.figure()\n",
        "\n",
        "plt.scatter(X1,Y)\n",
        "\n",
        "plt.plot(x, y1,color ='red')\n",
        "\n",
        "\n",
        "plt.show()"
      ],
      "metadata": {
        "colab": {
          "base_uri": "https://localhost:8080/",
          "height": 304
        },
        "id": "Ds_v6hIK2F9J",
        "outputId": "2e266b04-b251-4f67-a71b-11db14d57436"
      },
      "execution_count": null,
      "outputs": [
        {
          "output_type": "stream",
          "name": "stdout",
          "text": [
            "[[1.92220312]]\n",
            "113.48623829492843\n"
          ]
        },
        {
          "output_type": "display_data",
          "data": {
            "image/png": "[encoded data removed]",
            "text/plain": [
              "<Figure size 432x288 with 1 Axes>"
            ]
          },
          "metadata": {
            "needs_background": "light"
          }
        }
      ]
    },
    {
      "cell_type": "markdown",
      "source": [
        "接下来使用pytorch实现"
      ],
      "metadata": {
        "id": "HB7bociezfqi"
      }
    },
    {
      "cell_type": "code",
      "source": [
        "import torch\n",
        "\n",
        "class torchLR(torch.nn.Module): #继承Module类\n",
        "\n",
        "  def __init__(self):\n",
        "\n",
        "    super().__init__()\n",
        "\n",
        "    self.linear = torch.nn.Linear(1,1)  #一个线性层 代表为 y=xW.T + b 。 在这里 w是参数矩阵 维度为（1，n） ；x是数据 维度为（m，n） b是偏置项\n",
        "    self.crit = torch.nn.MSELoss() #损失函数\n",
        "    self.optim = torch.optim.Adam(self.parameters(),lr=1.) #优化器 \n",
        "\n",
        "  \n",
        "  def forward(self,x):\n",
        "    result = self.linear(x) #线性回归 直接用 y = xW.T + b 来做激活函数。\n",
        "    return result\n",
        "\n",
        "\n",
        "torLR = torchLR()\n",
        "\n",
        "X3 = X1.T\n",
        "\n",
        "x1 = torch.from_numpy(X3) #如果是从numpy 的ndarray 数据。一定要用torch.from_numpy做转换 \n",
        "y = torch.from_numpy(Y.T) #如果是从numpy 的ndarray 数据。一定要用torch.from_numpy做转换 \n",
        "\n",
        "#训练30000次\n",
        "for i in range(30000):\n",
        "\n",
        "  A = torLR.forward(x1.float()) \n",
        "  loss = torLR.crit(A.float(),y.float())\n",
        "  torLR.optim.zero_grad()\n",
        "  loss.backward()\n",
        "  torLR.optim.step()\n",
        "\n",
        "#打印参数值\n",
        "for name, param in torLR.named_parameters():\n",
        "    if param.requires_grad:\n",
        "        print( name, param.data)\n",
        "  "
      ],
      "metadata": {
        "colab": {
          "base_uri": "https://localhost:8080/"
        },
        "id": "UsUQqn_gwcZo",
        "outputId": "c4e5f4bf-91c3-44d8-ade6-1581841df3c9"
      },
      "execution_count": null,
      "outputs": [
        {
          "output_type": "stream",
          "name": "stdout",
          "text": [
            "linear.weight tensor([[1.9215]])\n",
            "linear.bias tensor([113.5261])\n"
          ]
        }
      ]
    },
    {
      "cell_type": "code",
      "source": [
        "\n"
      ],
      "metadata": {
        "id": "qv-9pvflxCi8"
      },
      "execution_count": null,
      "outputs": []
    }
  ]
}