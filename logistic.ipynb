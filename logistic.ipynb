{
  "cells": [
    {
      "cell_type": "markdown",
      "metadata": {
        "id": "view-in-github",
        "colab_type": "text"
      },
      "source": [
        "<a href=\"https://colab.research.google.com/github/benject/deep_learning/blob/main/logistic.ipynb\" target=\"_parent\"><img src=\"https://colab.research.google.com/assets/colab-badge.svg\" alt=\"Open In Colab\"/></a>"
      ]
    },
    {
      "cell_type": "markdown",
      "metadata": {
        "id": "NG_M5f8FOnhd"
      },
      "source": [
        "logistic python implement"
      ]
    },
    {
      "cell_type": "code",
      "execution_count": 2,
      "metadata": {
        "id": "Qbg1yZ1_NxkG"
      },
      "outputs": [],
      "source": [
        "#!/usr/bin/python\n",
        "# -*- coding: utf-8 -*-\n",
        "\n",
        "\n",
        "import numpy as np\n",
        "\n",
        "def sigmoid(z):\n",
        "\n",
        "  '''sigmoid 激活函数'''\n",
        "\n",
        "  return(1.0/(1.0 + np.exp(-z)))\n",
        "\n",
        "\n",
        "def loss( real_result , predict_result):\n",
        "\n",
        "  '''损失函数'''\n",
        "\n",
        "  result = -( real_result*np.log(predict_result) + (1 - real_result)*np.log(1-predict_result))\n",
        "  return result\n",
        "\n",
        "def gradient_w(input,real_result,predict_result):\n",
        "\n",
        "  '''\n",
        "  梯度下降\n",
        "  第一步 令 y = loss（a） 对损失函数的求导 dy/da 的结果是 -y/a + (1-y)/(1-a)\n",
        "  计算过程参见 https://towardsdatascience.com/logistic-regression-from-scratch-69db4f587e17\n",
        "\n",
        "  第二步 令 a = sigmoid（z） 对sigmoid函数求导 da/dz 的结果是 a(1-a)\n",
        "  计算过程参见 https://towardsdatascience.com/derivative-of-the-sigmoid-function-536880cf918e\n",
        "\n",
        "  第三步 根据链式求导法则 dydz = dy/da * da/dz = (-y/a + (1-y)/(1-a)) * a(1-a) = -y(1-a) + a(1-y) = -y + ay + a - ay = a - y\n",
        "\n",
        "  第四步 令 z = w1x1 + w2x2 + b 对函数求w1的偏导数 dz/dw1 = x1 以此类推\n",
        "\n",
        "  那么： dy/dw1 = dz * dz/dw1 = x1 * (a - y) \n",
        "\n",
        "  可以发现 由于精妙的激活函数和损失函数的设计，预测值对参数值的梯度 就是 预测值与真值的差 再乘以输入\n",
        "  '''\n",
        "  \n",
        "  return( input *(predict_result - real_result) )\n",
        "\n",
        "def gradient_b(real_result,predict_result):    \n",
        "  return( predict_result - real_result )\n",
        "\n",
        "class MyNeuron:\n",
        "\n",
        "  def __init__(self,w,b):\n",
        "    self.w = w\n",
        "    self.b = b\n",
        "    self.learning_rate = 1\n",
        "\n",
        "    self.lr_w = 0  ##ada learning rate 自适应的学习率 可以极大提高学习效率\n",
        "    self.lr_b = 0  ##ada learning rate 自适应的学习率 可以极大提高学习效率\n",
        "\n",
        "  def forward(self,x):\n",
        "    z = np.dot(self.w,x) + b\n",
        "    return sigmoid(z)\n",
        "\n",
        "  def update_w(self,dw):\n",
        "    self.lr_w = self.lr_w + dw**2 ##ada learning rate 自适应的学习率 可以极大提高学习效率\n",
        "    self.w = self.w - self.learning_rate / np.sqrt(self.lr_w) * dw ##ada learning rate 自适应的学习率 可以极大提高学习效率\n",
        "  \n",
        "  def update_b(self,db):\n",
        "    self.lr_b = self.lr_b + db**2 ##ada learning rate 自适应的学习率 可以极大提高学习效率\n",
        "    self.b = self.b - self.learning_rate / np.sqrt(self.lr_b) * db ##ada learning rate 自适应的学习率 可以极大提高学习效率"
      ]
    },
    {
      "cell_type": "code",
      "execution_count": 3,
      "metadata": {
        "id": "JTIM2CRZRGI_"
      },
      "outputs": [],
      "source": [
        "#随机初始化权重 和 偏置\n",
        "w = np.array([0.35,0.45])\n",
        "b = 1.31\n",
        "\n",
        "#实例化一个神经元\n",
        "neu = MyNeuron (w.T,b)\n",
        "\n",
        "#填充数据\n",
        "X = np.zeros((600,2))\n",
        "Y = np.zeros((600,1))\n",
        "\n",
        "for i in range(300):\n",
        "\n",
        "  X[i][0] = np.random.uniform() * 0.1 + 1.8\n",
        "  X[i][1] = np.random.uniform() * 0.001 + 0.085\n",
        "  Y[i] = 1.0\n",
        "\n",
        "for i in range(300):\n",
        "\n",
        "  X[300+i][1] = np.random.uniform() * 0.1 + 1.5\n",
        "  X[300+i][1] = np.random.uniform() * 0.001 + 0.045\n",
        "  Y[300+i] = 0.0"
      ]
    },
    {
      "cell_type": "code",
      "execution_count": 4,
      "metadata": {
        "colab": {
          "base_uri": "https://localhost:8080/",
          "height": 302
        },
        "id": "oMn2rNmWcoQr",
        "outputId": "0ef77d86-6358-4b76-c63a-590614b777e8"
      },
      "outputs": [
        {
          "output_type": "stream",
          "name": "stdout",
          "text": [
            "[[  8.26230239 -78.37364811]]\n",
            "[-77.17496574]\n"
          ]
        },
        {
          "output_type": "display_data",
          "data": {
            "image/png": "[encoded data removed]",
            "text/plain": [
              "<Figure size 432x288 with 1 Axes>"
            ]
          },
          "metadata": {
            "needs_background": "light"
          }
        }
      ],
      "source": [
        "import matplotlib.pyplot as plt\n",
        "\n",
        "y = 0 \n",
        "dw1 = 0 \n",
        "dw2 = 0\n",
        "db = 0\n",
        "j = 0\n",
        "\n",
        "for e in range(10000):\n",
        "\n",
        "  for i in range(600):\n",
        "\n",
        "    y = neu.forward(X[i])\n",
        "    dw1 += gradient_w(X[i][0],Y[i],y)\n",
        "    dw2 += gradient_w(X[i][1],Y[i],y)\n",
        "    db += gradient_b(Y[i],y)\n",
        "    j += loss(Y[i],y)\n",
        "\n",
        "  dw1 /= 600\n",
        "  dw2 /= 600\n",
        "  db /= 600\n",
        "  j /= 600\n",
        "\n",
        "  neu.update_w(np.array([dw1,dw2]).T)\n",
        "  neu.update_b(np.array(db))\n",
        "\n",
        "\n",
        "    \n",
        "  plt.scatter(e,j)\n",
        "\n",
        "  #print(j)\n",
        "  if(j<0.05):\n",
        "    break\n",
        "    \n",
        "\n",
        "\n",
        "\n",
        "\n",
        "\n",
        "print(neu.w)\n",
        "print(neu.b)\n",
        "\n",
        "  "
      ]
    },
    {
      "cell_type": "code",
      "execution_count": null,
      "metadata": {
        "id": "Ne-pBeyi_Vdm"
      },
      "outputs": [],
      "source": [
        ""
      ]
    },
    {
      "cell_type": "code",
      "execution_count": 5,
      "metadata": {
        "id": "8k6FywQIUwZb",
        "colab": {
          "base_uri": "https://localhost:8080/"
        },
        "outputId": "9dd27f60-c3a4-467b-ae9c-8dd10d274132"
      },
      "outputs": [
        {
          "output_type": "execute_result",
          "data": {
            "text/plain": [
              "array([0.09447124])"
            ]
          },
          "metadata": {},
          "execution_count": 5
        }
      ],
      "source": [
        "\n",
        "test = X[400]\n",
        "neu.forward(test)\n",
        "\n"
      ]
    },
    {
      "cell_type": "code",
      "execution_count": 6,
      "metadata": {
        "colab": {
          "base_uri": "https://localhost:8080/"
        },
        "id": "n6aZHBknEaIF",
        "outputId": "5c945acf-4bc9-47b1-d1ee-dd00996bab32"
      },
      "outputs": [
        {
          "output_type": "execute_result",
          "data": {
            "text/plain": [
              "array([0.99996675])"
            ]
          },
          "metadata": {},
          "execution_count": 6
        }
      ],
      "source": [
        "test1  = X[35]\n",
        "neu.forward(test1)"
      ]
    },
    {
      "cell_type": "code",
      "execution_count": null,
      "metadata": {
        "id": "GuXOjxPREaIF"
      },
      "outputs": [],
      "source": [
        ""
      ]
    }
  ],
  "metadata": {
    "colab": {
      "collapsed_sections": [],
      "name": "logistic.ipynb",
      "provenance": [],
      "include_colab_link": true
    },
    "kernelspec": {
      "display_name": "Python 3",
      "language": "python",
      "name": "python3"
    },
    "language_info": {
      "codemirror_mode": {
        "name": "ipython",
        "version": 3
      },
      "file_extension": ".py",
      "mimetype": "text/x-python",
      "name": "python",
      "nbconvert_exporter": "python",
      "pygments_lexer": "ipython3",
      "version": "3.8.3"
    }
  },
  "nbformat": 4,
  "nbformat_minor": 0
}