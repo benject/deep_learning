{
  "cells": [
    {
      "cell_type": "markdown",
      "metadata": {
        "id": "view-in-github",
        "colab_type": "text"
      },
      "source": [
        "<a href=\"https://colab.research.google.com/github/benject/deep_learning/blob/main/logistic.ipynb\" target=\"_parent\"><img src=\"https://colab.research.google.com/assets/colab-badge.svg\" alt=\"Open In Colab\"/></a>"
      ]
    },
    {
      "cell_type": "markdown",
      "metadata": {
        "id": "NG_M5f8FOnhd"
      },
      "source": [
        "logistic python implement"
      ]
    },
    {
      "cell_type": "code",
      "execution_count": null,
      "metadata": {
        "id": "Qbg1yZ1_NxkG",
        "colab": {
          "base_uri": "https://localhost:8080/"
        },
        "outputId": "81ccb538-30af-4937-8845-04d3ab9030a9"
      },
      "outputs": [
        {
          "output_type": "stream",
          "name": "stdout",
          "text": [
            "Drive already mounted at /content/drive; to attempt to forcibly remount, call drive.mount(\"/content/drive\", force_remount=True).\n"
          ]
        }
      ],
      "source": [
        "#!/usr/bin/python\n",
        "# -*- coding: utf-8 -*-\n",
        "\n",
        "import os\n",
        "from google.colab import drive\n",
        "drive.mount('/content/drive')\n",
        "\n",
        "\n",
        "import numpy as np\n",
        "\n",
        "def sigmoid(z):\n",
        "\n",
        "  '''sigmoid 激活函数'''\n",
        "\n",
        "  return(1.0/(1.0 + np.exp(-z)))\n",
        "\n",
        "\n",
        "\n",
        "def loss( real_result , predict_result):\n",
        "\n",
        "  '''损失函数'''\n",
        "\n",
        "  result = -( real_result*np.log(predict_result) + (1 - real_result)*np.log(1-predict_result))  \n",
        "  return result\n",
        "\n",
        "\n",
        "def gradient_w(input,real_result,predict_result):\n",
        "\n",
        "  '''\n",
        "  梯度下降\n",
        "  第一步 令 y = loss（a） 对损失函数的求导 dy/da 的结果是 -y/a + (1-y)/(1-a)\n",
        "  计算过程参见 https://towardsdatascience.com/logistic-regression-from-scratch-69db4f587e17\n",
        "\n",
        "  第二步 令 a = sigmoid（z） 对sigmoid函数求导 da/dz 的结果是 a(1-a)\n",
        "  计算过程参见 https://towardsdatascience.com/derivative-of-the-sigmoid-function-536880cf918e\n",
        "\n",
        "  第三步 根据链式求导法则 dydz = dy/da * da/dz = (-y/a + (1-y)/(1-a)) * a(1-a) = -y(1-a) + a(1-y) = -y + ay + a - ay = a - y\n",
        "\n",
        "  第四步 令 z = w1x1 + w2x2 + b 对函数求w1的偏导数 dz/dw1 = x1 以此类推\n",
        "\n",
        "  那么： dy/dw1 = dz * dz/dw1 = x1 * (a - y) \n",
        "\n",
        "  可以发现 由于精妙的激活函数和损失函数的设计，预测值对参数值的梯度 就是 预测值与真值的差 再乘以输入\n",
        "  '''\n",
        "  \n",
        "  return( input *(predict_result - real_result) )\n",
        "\n",
        "\n",
        "\n",
        "\n",
        "\n",
        "class MyNeuron:\n",
        "\n",
        "  def __init__(self,w,b):\n",
        "    self.w = w\n",
        "    self.b = b\n",
        "    self.learning_rate = 1\n",
        "\n",
        "    self.lr_w = 0  ##ada learning rate 自适应的学习率 可以极大提高学习效率\n",
        "    self.lr_b = 0  ##ada learning rate 自适应的学习率 可以极大提高学习效率\n",
        "\n",
        "  def forward(self,x):\n",
        "    z = np.dot(self.w.T,x) + self.b\n",
        "    assert(z.shape == (1,100))\n",
        "    return sigmoid(z)\n",
        "\n",
        "  def gradient_decent_v(self,X,Y,A):\n",
        "\n",
        "    assert(X.shape==(2,100))\n",
        "\n",
        "    m = X.shape[1]\n",
        "      \n",
        "    #向量化实现\n",
        "    DZ = A - Y\n",
        "\n",
        "    assert(DZ.shape==(1,100))\n",
        "\n",
        "    #X.shape = (nx,m) DZ.shape = (1,m) \n",
        "    # np.dot(X,DZ.T).shape = (nx,1)  \n",
        "\n",
        "    dw = 1/m * np.dot(X, DZ.T)\n",
        "    db = 1/m * np.sum(DZ)\n",
        "    return dw , db\n",
        "\n",
        "  \n",
        "  def optimization(self,dw,db):\n",
        "\n",
        "    self.lr_w = self.lr_w + np.power(dw,2) ##ada learning rate 自适应的学习率 可以极大提高学习效率\n",
        "    new_w = self.w - self.learning_rate / np.sqrt(self.lr_w) * dw ##ada learning rate 自适应的学习率 可以极大提高学习效率\n",
        "    #new_w = self.w - self.learning_rate * dw\n",
        "\n",
        "    self.lr_b = self.lr_b + db**2 ##ada learning rate 自适应的学习率 可以极大提高学习效率\n",
        "    new_b = self.b - self.learning_rate / np.sqrt(self.lr_b) * db ##ada learning rate 自适应的学习率 可以极大提高学习效率\n",
        "    #new_b = self.b - self.learning_rate * db\n",
        "    return new_w,new_b\n",
        "\n",
        "\n",
        "  def update_w(self,w):\n",
        "    self.w = w\n",
        "  \n",
        "  def update_b(self,b):    \n",
        "    self.b = b\n"
      ]
    },
    {
      "cell_type": "code",
      "execution_count": null,
      "metadata": {
        "id": "JTIM2CRZRGI_",
        "colab": {
          "base_uri": "https://localhost:8080/"
        },
        "outputId": "cf26c2cf-64a3-4ee0-d747-888ee9625cc0"
      },
      "outputs": [
        {
          "output_type": "stream",
          "name": "stdout",
          "text": [
            "(2, 100)\n",
            "(1, 100)\n"
          ]
        }
      ],
      "source": [
        "import pandas as pd\n",
        "\n",
        "'''\n",
        "#填充数据\n",
        "X = np.zeros((2,600))\n",
        "Y = np.zeros((600))\n",
        "\n",
        "for i in range(300):\n",
        "\n",
        "  X[0,i] = np.random.rand() * 0.1 + 1.8\n",
        "  X[1,i] = np.random.rand() * 0.001 + 0.085\n",
        "  Y[i] = 1.0\n",
        "\n",
        "for i in range(300):\n",
        "\n",
        "  X[0,300+i] = np.random.rand() * 0.1 + 1.5\n",
        "  X[1,300+i] = np.random.rand() * 0.001 + 0.045\n",
        "  Y[300+i] = 0.0\n",
        "\n",
        "print(X.shape)\n",
        "\n",
        "Y = Y.reshape(1,600)\n",
        "\n",
        "print(Y.shape)\n",
        "'''\n",
        "\n",
        "df=pd.read_csv(\"./drive/MyDrive/Colab Notebooks/ex2data1.txt\",header=None)\n",
        "X=df.iloc[:,:-1].values / 100\n",
        "Y=df.iloc[:,-1].values\n",
        "\n",
        "\n",
        "X = X.reshape(2,100)\n",
        "Y = Y.reshape(1,100)\n",
        "print(X.shape)\n",
        "print(Y.shape)\n",
        "\n"
      ]
    },
    {
      "cell_type": "code",
      "source": [
        "from numpy.lib.function_base import gradient\n",
        "import matplotlib.pyplot as plt\n",
        "\n",
        "\n",
        "j = 0\n",
        "j_arr = []\n",
        "\n",
        "\n",
        "'''\n",
        "#非向量化实现\n",
        "a = 0 \n",
        "dw1 = 0.0 \n",
        "dw2 = 0.0\n",
        "db = 0\n",
        "for e in range(10000):\n",
        "\n",
        "  for i in range(600):\n",
        "\n",
        "    a = neu.forward(X.T[i])\n",
        "    dw1 += gradient_w(X[0][i],Y[i],a)\n",
        "    dw2 += gradient_w(X[1][i],Y[i],a)\n",
        "    db += gradient_b(Y[i],a)\n",
        "    j += loss(Y[i],a)\n",
        "\n",
        "  dw1 /= 600\n",
        "  dw2 /= 600\n",
        "  db /= 600\n",
        "  j /= 600\n",
        "\n",
        "\n",
        "  \n",
        "  neu.update_w(np.array([dw1,dw2]).T)\n",
        "  neu.update_b(np.array(db))\n",
        "  plt.scatter(e,j)\n",
        "\n",
        "  print(j)\n",
        "  if(j<0.05):\n",
        "    break\n",
        "   /\n",
        "'''\n",
        "#向量化实现\n",
        "\n",
        "\n",
        "#随机初始化权重 和 偏置\n",
        "#w = np.array([[0.35],[0.45]]) # w shape is :(2, 1)\n",
        "#b = 1.31\n",
        "\n",
        "w = np.zeros((2,1))\n",
        "b = 0\n",
        "\n",
        "#实例化一个神经元\n",
        "neu = MyNeuron(w,b)\n",
        "\n",
        "m = X.shape[1]\n",
        "\n",
        "for e in range(3000):\n",
        "  \n",
        "  A = neu.forward(X)  #A shape is (1,m)\n",
        "  dw,db = neu.gradient_decent_v(X,Y,A) #DW shape is (2,1) \n",
        "  j = 1/m * np.sum(loss(Y,A))\n",
        "\n",
        "  j_arr.append(j)\n",
        "  #if(j<0.05):\n",
        "  #  break\n",
        "\n",
        "  new_w , new_b = neu.optimization(dw,db)\n",
        "  \n",
        "  neu.update_w(new_w)\n",
        "  neu.update_b(new_b)\n",
        "\n",
        "plt.scatter(np.arange(len(j_arr)),j_arr)\n",
        "\n",
        "print(j)\n",
        "print(neu.w)\n",
        "print(neu.b)"
      ],
      "metadata": {
        "colab": {
          "base_uri": "https://localhost:8080/",
          "height": 338
        },
        "id": "B52EkEcsA5Jf",
        "outputId": "758d314f-c543-4a3e-b703-f8c38bdfc954"
      },
      "execution_count": null,
      "outputs": [
        {
          "output_type": "stream",
          "name": "stdout",
          "text": [
            "0.6349650120610356\n",
            "[[1.5391868 ]\n",
            " [2.80186428]]\n",
            "-2.442630327240402\n"
          ]
        },
        {
          "output_type": "display_data",
          "data": {
            "image/png": "[encoded data removed]",
            "text/plain": [
              "<Figure size 432x288 with 1 Axes>"
            ]
          },
          "metadata": {
            "needs_background": "light"
          }
        }
      ]
    },
    {
      "cell_type": "code",
      "source": [
        "import matplotlib.pyplot as plt\n",
        "df=pd.read_csv(\"./drive/MyDrive/Colab Notebooks/ex2data1.txt\",header=None)\n",
        "xx=df.iloc[:,:-1].values/100\n",
        "yy=df.iloc[:,-1].values\n",
        "\n",
        "pos , neg = (yy==1).reshape(100,1) , (yy==0).reshape(100,1)\n",
        "plt.scatter(xx[pos[:,0],0],xx[pos[:,0],1],c=\"r\",marker=\"+\")\n",
        "plt.scatter(xx[neg[:,0],0],xx[neg[:,0],1],marker=\"o\",s=10)\n",
        "plt.xlabel(\"Exam 1 score\")\n",
        "plt.ylabel(\"Exam 2 score\")\n",
        "plt.legend([\"Admitted\",\"Not admitted\"],loc=0)\n",
        "\n",
        "\n",
        "\n",
        "www1 = np.arange(100)/100\n",
        "www2 = -neu.b / neu.w[1,0] - ( neu.w[0,0] / neu.w[1,0] * www1 )\n",
        "\n",
        "plt.scatter(www1,www2)\n"
      ],
      "metadata": {
        "colab": {
          "base_uri": "https://localhost:8080/",
          "height": 297
        },
        "id": "_iI93X5s36F-",
        "outputId": "0b85d16d-7f7a-42d0-9331-ee47e5853adf"
      },
      "execution_count": null,
      "outputs": [
        {
          "output_type": "execute_result",
          "data": {
            "text/plain": [
              "<matplotlib.collections.PathCollection at 0x7fadbb3f1c50>"
            ]
          },
          "metadata": {},
          "execution_count": 28
        },
        {
          "output_type": "display_data",
          "data": {
            "image/png": "[encoded data removed]",
            "text/plain": [
              "<Figure size 432x288 with 1 Axes>"
            ]
          },
          "metadata": {
            "needs_background": "light"
          }
        }
      ]
    },
    {
      "cell_type": "markdown",
      "source": [
        "接下来使用pytorch实现"
      ],
      "metadata": {
        "id": "N8rB6GVszpgT"
      }
    },
    {
      "cell_type": "code",
      "source": [
        "\n",
        "import torch\n",
        "\n",
        "class torchLogisticRegression(torch.nn.Module):\n",
        "\n",
        "  def __init__(self):\n",
        "\n",
        "    super().__init__()\n",
        "    \n",
        "    self.linear = torch.nn.Linear(2, 1)  #一个线性层 代表为 y=xW.T + b 。 在这里 w是参数矩阵 维度为（1，n） ；x是数据 维度为（m，n） b是偏置项 ； 参数（2，1）代表2个特征和1个输出\n",
        "    self.lossFun = torch.nn.BCELoss()\n",
        "    self.optim = torch.optim.Adam(self.parameters(),lr=1.) #优化器 \n",
        "  \n",
        "  def forward(self,x):\n",
        "\n",
        "    result = torch.sigmoid(self.linear(x)) # 用 sigmoid 激活函数 \n",
        "    return result\n",
        "\n",
        "\n",
        "torchLR = torchLogisticRegression()\n",
        "\n",
        "X1 = torch.from_numpy(X.T) #如果是从numpy 的ndarray 数据。一定要用torch.from_numpy做转换 \n",
        "Y1 = torch.from_numpy(Y.T) #如果是从numpy 的ndarray 数据。一定要用torch.from_numpy做转换 \n",
        "\n",
        "X1\n",
        "\n",
        "for i in range(10000):\n",
        "\n",
        "  A = torchLR.forward(X1.float())\n",
        "\n",
        "\n",
        "  loss = torchLR.lossFun(A.float(),Y1.float())\n",
        "  torchLR.optim.zero_grad()\n",
        "\n",
        "  loss.backward()\n",
        "\n",
        "  torchLR.optim.step()\n",
        "\n",
        "\n",
        "#打印参数值\n",
        "for name, param in torchLR.named_parameters():\n",
        "    if param.requires_grad:\n",
        "        print( name, param.data)\n"
      ],
      "metadata": {
        "colab": {
          "base_uri": "https://localhost:8080/"
        },
        "id": "jIz-71IUzsYu",
        "outputId": "72e4357f-aba4-4cd0-9505-d0df1c03e713"
      },
      "execution_count": null,
      "outputs": [
        {
          "output_type": "stream",
          "name": "stdout",
          "text": [
            "linear.weight tensor([[1.5323, 2.7979]])\n",
            "linear.bias tensor([-2.4479])\n"
          ]
        }
      ]
    }
  ],
  "metadata": {
    "colab": {
      "collapsed_sections": [],
      "name": "logistic.ipynb",
      "provenance": [],
      "include_colab_link": true
    },
    "kernelspec": {
      "display_name": "Python 3",
      "language": "python",
      "name": "python3"
    },
    "language_info": {
      "codemirror_mode": {
        "name": "ipython",
        "version": 3
      },
      "file_extension": ".py",
      "mimetype": "text/x-python",
      "name": "python",
      "nbconvert_exporter": "python",
      "pygments_lexer": "ipython3",
      "version": "3.8.3"
    }
  },
  "nbformat": 4,
  "nbformat_minor": 0
}