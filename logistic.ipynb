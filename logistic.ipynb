{
  "cells": [
    {
      "cell_type": "markdown",
      "metadata": {
        "id": "view-in-github",
        "colab_type": "text"
      },
      "source": [
        "<a href=\"https://colab.research.google.com/github/benject/deep_learning/blob/main/logistic.ipynb\" target=\"_parent\"><img src=\"https://colab.research.google.com/assets/colab-badge.svg\" alt=\"Open In Colab\"/></a>"
      ]
    },
    {
      "cell_type": "markdown",
      "metadata": {
        "id": "NG_M5f8FOnhd"
      },
      "source": [
        "logistic python implement"
      ]
    },
    {
      "cell_type": "code",
      "execution_count": 150,
      "metadata": {
        "id": "Qbg1yZ1_NxkG"
      },
      "outputs": [],
      "source": [
        "#!/usr/bin/python\n",
        "# -*- coding: utf-8 -*-\n",
        "\n",
        "\n",
        "import numpy as np\n",
        "\n",
        "def sigmoid(z):\n",
        "\n",
        "  '''sigmoid 激活函数'''\n",
        "\n",
        "  return(1.0/(1.0 + np.exp(-z)))\n",
        "\n",
        "\n",
        "def loss( real_result , predict_result):\n",
        "\n",
        "  '''损失函数'''\n",
        "\n",
        "  result = -( real_result*np.log(predict_result) + (1 - real_result)*np.log(1-predict_result))\n",
        "  return result\n",
        "\n",
        "def gradient_w(input,real_result,predict_result):\n",
        "\n",
        "  '''\n",
        "  梯度下降\n",
        "  第一步 令 y = loss（a） 对损失函数的求导 dy/da 的结果是 -y/a + (1-y)/(1-a)\n",
        "  计算过程参见 https://towardsdatascience.com/logistic-regression-from-scratch-69db4f587e17\n",
        "\n",
        "  第二步 令 a = sigmoid（z） 对sigmoid函数求导 da/dz 的结果是 a(1-a)\n",
        "  计算过程参见 https://towardsdatascience.com/derivative-of-the-sigmoid-function-536880cf918e\n",
        "\n",
        "  第三步 根据链式求导法则 dydz = dy/da * da/dz = (-y/a + (1-y)/(1-a)) * a(1-a) = -y(1-a) + a(1-y) = -y + ay + a - ay = a - y\n",
        "\n",
        "  第四步 令 z = w1x1 + w2x2 + b 对函数求w1的偏导数 dz/dw1 = x1 以此类推\n",
        "\n",
        "  那么： dy/dw1 = dz * dz/dw1 = x1 * (a - y) \n",
        "\n",
        "  可以发现 由于精妙的激活函数和损失函数的设计，预测值对参数值的梯度 就是 预测值与真值的差 再乘以输入\n",
        "  '''\n",
        "  \n",
        "  return( input *(predict_result - real_result) )\n",
        "  \n",
        "def gradient_w_v(X,Y,A):\n",
        "\n",
        "  DZ = A - Y\n",
        "  #向量化实现\n",
        "  #X.shape = (nx,m) DZ.shape = (1,m) \n",
        "  # np.dot(X,DZ.T).shape = (nx,1)\n",
        "  return (np.dot(X,DZ.T))\n",
        "\n",
        "def gradient_b(real_result,predict_result):    \n",
        "  return( predict_result - real_result )\n",
        "\n",
        "\n",
        "\n",
        "class MyNeuron:\n",
        "\n",
        "  def __init__(self,w,b):\n",
        "    self.w = w\n",
        "    self.b = b\n",
        "    self.learning_rate = 1\n",
        "\n",
        "    self.lr_w = 0  ##ada learning rate 自适应的学习率 可以极大提高学习效率\n",
        "    self.lr_b = 0  ##ada learning rate 自适应的学习率 可以极大提高学习效率\n",
        "\n",
        "  def forward(self,x):\n",
        "    z = np.dot(self.w,x) + b\n",
        "    return sigmoid(z)\n",
        "\n",
        "  def update_w(self,dw):\n",
        "    self.lr_w = self.lr_w + dw**2 ##ada learning rate 自适应的学习率 可以极大提高学习效率\n",
        "    self.w = self.w - self.learning_rate / np.sqrt(self.lr_w) * dw ##ada learning rate 自适应的学习率 可以极大提高学习效率\n",
        "  \n",
        "  def update_b(self,db):\n",
        "    self.lr_b = self.lr_b + db**2 ##ada learning rate 自适应的学习率 可以极大提高学习效率\n",
        "    self.b = self.b - self.learning_rate / np.sqrt(self.lr_b) * db ##ada learning rate 自适应的学习率 可以极大提高学习效率"
      ]
    },
    {
      "cell_type": "code",
      "execution_count": 156,
      "metadata": {
        "id": "JTIM2CRZRGI_"
      },
      "outputs": [],
      "source": [
        "#随机初始化权重 和 偏置\n",
        "w = np.array([[0.35],[0.45]]) # w shape is :(2, 1)\n",
        "b = 1.31\n",
        "\n",
        "#实例化一个神经元\n",
        "neu = MyNeuron (w.T,b)\n",
        "\n",
        "#填充数据\n",
        "X = np.zeros((2,600))\n",
        "Y = np.zeros((600))\n",
        "\n",
        "for i in range(300):\n",
        "\n",
        "  X[0][i] = np.random.rand() * 0.1 + 1.8\n",
        "  X[1][i] = np.random.rand() * 0.001 + 0.085\n",
        "  Y[i] = 1.0\n",
        "\n",
        "for i in range(300):\n",
        "\n",
        "  X[0][300+i] = np.random.rand() * 0.1 + 1.5\n",
        "  X[1][300+i] = np.random.rand() * 0.001 + 0.045\n",
        "  Y[300+i] = 0.0\n",
        "\n",
        "\n"
      ]
    },
    {
      "cell_type": "code",
      "execution_count": 157,
      "metadata": {
        "colab": {
          "base_uri": "https://localhost:8080/",
          "height": 302
        },
        "id": "oMn2rNmWcoQr",
        "outputId": "789cc45f-1663-42da-cf67-0409be2369af"
      },
      "outputs": [
        {
          "output_type": "stream",
          "name": "stdout",
          "text": [
            "[[ -9.12055221 218.04838796]]\n",
            "-206.1275827818089\n"
          ]
        },
        {
          "output_type": "display_data",
          "data": {
            "image/png": "[encoded data removed]",
            "text/plain": [
              "<Figure size 432x288 with 1 Axes>"
            ]
          },
          "metadata": {
            "needs_background": "light"
          }
        }
      ],
      "source": [
        "import matplotlib.pyplot as plt\n",
        "\n",
        "a = 0 \n",
        "dw1 = 0.0 \n",
        "dw2 = 0.0\n",
        "db = 0\n",
        "j = 0\n",
        "\n",
        "'''\n",
        "#非向量化实现\n",
        "\n",
        "for e in range(10000):\n",
        "\n",
        "  for i in range(600):\n",
        "\n",
        "    a = neu.forward(X.T[i])\n",
        "    dw1 += gradient_w(X[0][i],Y[i],a)\n",
        "    dw2 += gradient_w(X[1][i],Y[i],a)\n",
        "    db += gradient_b(Y[i],a)\n",
        "    j += loss(Y[i],a)\n",
        "\n",
        "  dw1 /= 600\n",
        "  dw2 /= 600\n",
        "  db /= 600\n",
        "  j /= 600\n",
        "\n",
        "\n",
        "  \n",
        "  neu.update_w(np.array([dw1,dw2]).T)\n",
        "  neu.update_b(np.array(db))\n",
        "  plt.scatter(e,j)\n",
        "\n",
        "  print(j)\n",
        "  if(j<0.05):\n",
        "    break\n",
        "   \n",
        "'''\n",
        "#向量化实现\n",
        "\n",
        "\n",
        "j_arr = []\n",
        "\n",
        "for e in range(100000):\n",
        "  A = neu.forward(X)  #A shape is (1,m)\n",
        "  DW = gradient_w_v(X,Y,A)/600 #DW shape is (2,1)\n",
        "  db = np.sum(gradient_b(Y,A))/600\n",
        "  j = np.sum(loss(Y,A))/600\n",
        "\n",
        "  j_arr.append(j)\n",
        "  if(j<0.05):\n",
        "    break\n",
        "  \n",
        "  neu.update_w(DW.T)\n",
        "  neu.update_b(db)\n",
        "\n",
        "plt.scatter(np.arange(len(j_arr)),j_arr)\n",
        "\n",
        "\n",
        "\n",
        "\n",
        "print(neu.w)\n",
        "print(neu.b)"
      ]
    },
    {
      "cell_type": "code",
      "execution_count": 158,
      "metadata": {
        "id": "8k6FywQIUwZb",
        "colab": {
          "base_uri": "https://localhost:8080/"
        },
        "outputId": "405c21dd-5448-4d63-9444-372a18523f94"
      },
      "outputs": [
        {
          "output_type": "execute_result",
          "data": {
            "text/plain": [
              "array([0.04459128])"
            ]
          },
          "metadata": {},
          "execution_count": 158
        }
      ],
      "source": [
        "\n",
        "test = X.T[400]\n",
        "neu.forward(test)\n",
        "\n"
      ]
    },
    {
      "cell_type": "code",
      "execution_count": 159,
      "metadata": {
        "colab": {
          "base_uri": "https://localhost:8080/"
        },
        "id": "n6aZHBknEaIF",
        "outputId": "6927c44c-7450-4bfa-f6b5-f6e76a68cdc8"
      },
      "outputs": [
        {
          "output_type": "execute_result",
          "data": {
            "text/plain": [
              "array([0.96191171])"
            ]
          },
          "metadata": {},
          "execution_count": 159
        }
      ],
      "source": [
        "test1  = X.T[35]\n",
        "neu.forward(test1)"
      ]
    }
  ],
  "metadata": {
    "colab": {
      "collapsed_sections": [],
      "name": "logistic.ipynb",
      "provenance": [],
      "include_colab_link": true
    },
    "kernelspec": {
      "display_name": "Python 3",
      "language": "python",
      "name": "python3"
    },
    "language_info": {
      "codemirror_mode": {
        "name": "ipython",
        "version": 3
      },
      "file_extension": ".py",
      "mimetype": "text/x-python",
      "name": "python",
      "nbconvert_exporter": "python",
      "pygments_lexer": "ipython3",
      "version": "3.8.3"
    }
  },
  "nbformat": 4,
  "nbformat_minor": 0
}